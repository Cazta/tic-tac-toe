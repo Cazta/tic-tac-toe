{
 "cells": [
  {
   "attachments": {},
   "cell_type": "markdown",
   "metadata": {},
   "source": [
    "Define global variables"
   ]
  },
  {
   "cell_type": "code",
   "execution_count": 11,
   "metadata": {},
   "outputs": [],
   "source": [
    "game_board = ['~','~','~','~','~','~','~','~','~']\n",
    "\n",
    "player_1 = None\n",
    "player_2 = None\n",
    "\n",
    "game_active = True\n",
    "\n",
    "active_player = None"
   ]
  },
  {
   "attachments": {},
   "cell_type": "markdown",
   "metadata": {},
   "source": [
    "start function"
   ]
  },
  {
   "cell_type": "code",
   "execution_count": 13,
   "metadata": {},
   "outputs": [
    {
     "name": "stdout",
     "output_type": "stream",
     "text": [
      "How about a round of Tic-Tac-Toe?\n"
     ]
    }
   ],
   "source": [
    "\n",
    "def start_function():\n",
    "     print('How about a round of Tic-Tac-Toe?')\n",
    "     start = input('Hit any key to start.')\n",
    "     if start != None:\n",
    "          #global game_active\n",
    "          game_active == True\n",
    "     \n",
    "\n",
    "start_function()\n",
    "print(game_active)\n"
   ]
  },
  {
   "attachments": {},
   "cell_type": "markdown",
   "metadata": {},
   "source": [
    "print board game"
   ]
  },
  {
   "cell_type": "code",
   "execution_count": 109,
   "metadata": {},
   "outputs": [],
   "source": [
    "def print_game_board(game_board):\n",
    "    print(' | ' + '  ' + game_board[0] + '  ' + ' | ' + '  ' + game_board[1] + '  ' + ' | ' + '  ' + game_board[2] + '  ' + ' | ' )\n",
    "    print('---------------------------')\n",
    "    print(' | ' + '  ' + game_board[3] + '  ' + ' | ' + '  ' + game_board[4] + '  ' + ' | ' + '  ' + game_board[5] + '  ' + ' | ' )\n",
    "    print('---------------------------')\n",
    "    print(' | ' + '  ' + game_board[6] + '  ' + ' | ' + '  ' + game_board[7] + '  ' + ' | ' + '  ' + game_board[8] + '  ' + ' | ' )\n"
   ]
  },
  {
   "cell_type": "code",
   "execution_count": 110,
   "metadata": {},
   "outputs": [
    {
     "name": "stdout",
     "output_type": "stream",
     "text": [
      " |   ~   |   ~   |   ~   | \n",
      "---------------------------\n",
      " |   ~   |   ~   |   ~   | \n",
      "---------------------------\n",
      " |   ~   |   ~   |   ~   | \n"
     ]
    }
   ],
   "source": [
    "print_game_board(game_board)"
   ]
  },
  {
   "attachments": {},
   "cell_type": "markdown",
   "metadata": {},
   "source": [
    "assigning symbols to player"
   ]
  },
  {
   "cell_type": "code",
   "execution_count": 6,
   "metadata": {},
   "outputs": [],
   "source": [
    "def symbol_func(print):\n",
    "    print(\"Welcome to a new round of Tic Tac Toe\")\n",
    "    global player_1 \n",
    "    player_1 = (input(\"Player 1 Please choose your Symbol, X or O: \"))\n",
    "    global player_2 \n",
    "    if player_1 == \"X\" or player_1 == \"x\":\n",
    "        player_2 = \"O\" \n",
    "    else:\n",
    "        player_2 = \"X\"\n",
    "    print(f'Player 1 chose \"{player_1}\" and Player 2 chose \"{player_2}\"')\n",
    "    #print(f'Player 1 chose \"{player_1}\" so Player 2 becomes \"{player_2}\"')"
   ]
  },
  {
   "cell_type": "code",
   "execution_count": 7,
   "metadata": {},
   "outputs": [
    {
     "name": "stdout",
     "output_type": "stream",
     "text": [
      "Welcome to a new round of Tic Tac Toe\n",
      "Player 1 chose \"X\" and Player 2 chose \"O\"\n"
     ]
    }
   ],
   "source": [
    "symbol_func()"
   ]
  },
  {
   "attachments": {},
   "cell_type": "markdown",
   "metadata": {},
   "source": [
    "Declaring active player"
   ]
  },
  {
   "cell_type": "code",
   "execution_count": 4,
   "metadata": {},
   "outputs": [
    {
     "name": "stdout",
     "output_type": "stream",
     "text": [
      "O\n"
     ]
    }
   ],
   "source": [
    "def declare_active_player(player_1):\n",
    "    global active_player\n",
    "    active_player = player_1\n",
    "    print(active_player)\n",
    "\n",
    "\n",
    "declare_active_player(player_1)\n",
    "\n",
    "\n"
   ]
  },
  {
   "attachments": {},
   "cell_type": "markdown",
   "metadata": {},
   "source": [
    "Switch Active Player"
   ]
  },
  {
   "cell_type": "code",
   "execution_count": 5,
   "metadata": {},
   "outputs": [
    {
     "name": "stdout",
     "output_type": "stream",
     "text": [
      "X\n"
     ]
    }
   ],
   "source": [
    "def switch_active_player():\n",
    "    global active_player\n",
    "    active_player = player_2\n",
    "    print(active_player)\n",
    "\n",
    "\n",
    "declare_active_player(player_2)"
   ]
  },
  {
   "attachments": {},
   "cell_type": "markdown",
   "metadata": {},
   "source": [
    "move player"
   ]
  },
  {
   "cell_type": "code",
   "execution_count": null,
   "metadata": {},
   "outputs": [],
   "source": [
    "def move_player(active_player):\n",
    "    idx = int(input(f'{active_player}, please input value 1 - 9 for the corresponding field in game board:'))\n",
    "    idx = idx-1\n",
    "    global game_board\n",
    "    game_board[idx] = active_player\n",
    "    print_game_board(game_board)\n"
   ]
  },
  {
   "attachments": {},
   "cell_type": "markdown",
   "metadata": {},
   "source": [
    "check win horizontal"
   ]
  },
  {
   "cell_type": "code",
   "execution_count": 145,
   "metadata": {},
   "outputs": [
    {
     "name": "stdout",
     "output_type": "stream",
     "text": [
      "True\n"
     ]
    }
   ],
   "source": [
    "def check_win_horizontal(game_board, active_player):\n",
    "    if game_board[0] == game_board[1] == game_board[2] == active_player or game_board[3] == game_board[4] == game_board[5] == active_player or game_board[6] == game_board[7] == game_board[8] == active_player:\n",
    "        print(f'{active_player} won!')\n",
    "        global game_active\n",
    "        game_active = False\n",
    "    else:\n",
    "        game_active = True\n",
    "\n",
    "print(game_active)\n",
    "\n",
    "check_win_horizontal(game_board)"
   ]
  },
  {
   "attachments": {},
   "cell_type": "markdown",
   "metadata": {},
   "source": [
    "check win vertical"
   ]
  },
  {
   "cell_type": "code",
   "execution_count": null,
   "metadata": {},
   "outputs": [],
   "source": [
    "def check_win_vertical(game_board, active_player):\n",
    "    if game_board[0] == game_board[3] == game_board[6] == active_player or game_board[1] == game_board[4] == game_board[7] == active_player or game_board[2] == game_board[5] == game_board[8] == active_player:\n",
    "        print(f'{active_player} won!')\n",
    "        global game_active\n",
    "        game_active = False\n",
    "    else:\n",
    "        game_active = True\n",
    "\n",
    "print(game_active)\n",
    "\n",
    "check_win_horizontal(game_board)"
   ]
  },
  {
   "attachments": {},
   "cell_type": "markdown",
   "metadata": {},
   "source": [
    "check win diagonal"
   ]
  },
  {
   "cell_type": "code",
   "execution_count": null,
   "metadata": {},
   "outputs": [],
   "source": [
    "def check_win_vertical(game_board, active_player):\n",
    "    if game_board[0] == game_board[4] == game_board[8] == active_player or game_board[2] == game_board[4] == game_board[6] == active_player:\n",
    "        print(f'{active_player} won!')\n",
    "        global game_active\n",
    "        game_active = False\n",
    "    else:\n",
    "        game_active = True\n",
    "\n",
    "print(game_active)\n",
    "\n",
    "check_win_horizontal(game_board)"
   ]
  },
  {
   "attachments": {},
   "cell_type": "markdown",
   "metadata": {},
   "source": [
    "check draw"
   ]
  },
  {
   "cell_type": "code",
   "execution_count": null,
   "metadata": {},
   "outputs": [],
   "source": [
    "def check_draw(game_board):\n",
    "    for element in game_board:\n",
    "        if '~' not in game_board:\n",
    "            print(\"It's a Draw!\")\n",
    "            global game_active\n",
    "            game_active = False\n",
    "        else:\n",
    "            game_active = True"
   ]
  },
  {
   "attachments": {},
   "cell_type": "markdown",
   "metadata": {},
   "source": [
    "while loop to start all functions"
   ]
  },
  {
   "cell_type": "code",
   "execution_count": null,
   "metadata": {},
   "outputs": [],
   "source": [
    "while game_active:\n",
    "    start_function()\n",
    "    print_game_board(game_board)\n",
    "    symbol_func()\n",
    "    declare_active_player(player_1)\n",
    "    switch_active_player()\n",
    "    move_player(active_player)\n",
    "    check_win_horizontal(game_board, active_player)\n",
    "    check_win_vertical(game_board, active_player)\n",
    "    check_draw(game_board)\n",
    "\n",
    "    \n",
    "    \n",
    "\n",
    "\n",
    "    \n",
    "    \n",
    "    "
   ]
  }
 ],
 "metadata": {
  "kernelspec": {
   "display_name": ".venv",
   "language": "python",
   "name": "python3"
  },
  "language_info": {
   "codemirror_mode": {
    "name": "ipython",
    "version": 3
   },
   "file_extension": ".py",
   "mimetype": "text/x-python",
   "name": "python",
   "nbconvert_exporter": "python",
   "pygments_lexer": "ipython3",
   "version": "3.11.0"
  },
  "orig_nbformat": 4
 },
 "nbformat": 4,
 "nbformat_minor": 2
}
