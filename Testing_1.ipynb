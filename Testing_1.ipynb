{
 "cells": [
  {
   "attachments": {},
   "cell_type": "markdown",
   "metadata": {},
   "source": [
    "['X','X','X','X','X','X','X','X','X']\n",
    "['~','~','~','~','~','X','X','X','X']"
   ]
  },
  {
   "cell_type": "code",
   "execution_count": 62,
   "metadata": {},
   "outputs": [],
   "source": [
    "game_board = ['X','~','~','X','~','~','X','~','~']\n",
    "active_player = 'X'"
   ]
  },
  {
   "cell_type": "code",
   "execution_count": 54,
   "metadata": {},
   "outputs": [],
   "source": [
    "def check_win(game_board, active_player):\n",
    "    global game_active\n",
    "    #check win horizontal\n",
    "    if game_board[0] == game_board[1] == game_board[2] == active_player or game_board[3] == game_board[4] == game_board[5] == active_player or game_board[6] == game_board[7] == game_board[8] == active_player:\n",
    "        game_active = False\n",
    "        print(f'{active_player} won!')\n",
    "    #check win vertical\n",
    "    elif game_board[0] == game_board[3] == game_board[6] == active_player or game_board[1] == game_board[4] == game_board[7] == active_player or game_board[2] == game_board[5] == game_board[8] == active_player: \n",
    "        game_active = False\n",
    "        print(f'{active_player} won!')\n",
    "    #check win diagonal\n",
    "    elif game_board[0] == game_board[4] == game_board[8] == active_player or game_board[2] == game_board[4] == game_board[6] == active_player:\n",
    "        game_active = False\n",
    "        print(f'{active_player} won!')\n",
    "    else:\n",
    "        game_active = True     \n",
    "    return game_active"
   ]
  },
  {
   "cell_type": "code",
   "execution_count": 55,
   "metadata": {},
   "outputs": [
    {
     "name": "stdout",
     "output_type": "stream",
     "text": [
      "X won!\n"
     ]
    },
    {
     "data": {
      "text/plain": [
       "False"
      ]
     },
     "execution_count": 55,
     "metadata": {},
     "output_type": "execute_result"
    }
   ],
   "source": [
    "check_win(game_board, active_player)"
   ]
  },
  {
   "cell_type": "code",
   "execution_count": null,
   "metadata": {},
   "outputs": [],
   "source": [
    "print(game_active)"
   ]
  },
  {
   "cell_type": "code",
   "execution_count": 56,
   "metadata": {},
   "outputs": [
    {
     "name": "stdout",
     "output_type": "stream",
     "text": [
      "the game is over\n"
     ]
    }
   ],
   "source": [
    "while game_active == True:\n",
    "    print('the loop is endless')\n",
    "else:\n",
    "    print('the game is over')\n"
   ]
  },
  {
   "cell_type": "code",
   "execution_count": 67,
   "metadata": {},
   "outputs": [],
   "source": [
    "active_player = 'x'\n",
    "\n",
    "def move_player(active_player):\n",
    "    idx = int(input(f'{active_player}, please input value 1 - 9 for the corresponding field in game board:'))\n",
    "    idx = idx-1\n",
    "    if idx in range(1,10) and idx != '~':\n",
    "        game_board[idx] = active_player\n",
    "        print_game_board(game_board)\n",
    "    else: \n",
    "        print('Whoopsie-daisy, wrong input. Try again')\n",
    "        move_player(active_player)"
   ]
  },
  {
   "cell_type": "code",
   "execution_count": 68,
   "metadata": {},
   "outputs": [
    {
     "name": "stdout",
     "output_type": "stream",
     "text": [
      "Whoopsie-daisy, wrong input. Try again\n",
      "Whoopsie-daisy, wrong input. Try again\n",
      "Whoopsie-daisy, wrong input. Try again\n"
     ]
    },
    {
     "ename": "NameError",
     "evalue": "name 'print_game_board' is not defined",
     "output_type": "error",
     "traceback": [
      "\u001b[0;31m---------------------------------------------------------------------------\u001b[0m",
      "\u001b[0;31mNameError\u001b[0m                                 Traceback (most recent call last)",
      "Cell \u001b[0;32mIn[68], line 1\u001b[0m\n\u001b[0;32m----> 1\u001b[0m move_player(active_player)\n",
      "Cell \u001b[0;32mIn[67], line 11\u001b[0m, in \u001b[0;36mmove_player\u001b[0;34m(active_player)\u001b[0m\n\u001b[1;32m      9\u001b[0m \u001b[39melse\u001b[39;00m: \n\u001b[1;32m     10\u001b[0m     \u001b[39mprint\u001b[39m(\u001b[39m'\u001b[39m\u001b[39mWhoopsie-daisy, wrong input. Try again\u001b[39m\u001b[39m'\u001b[39m)\n\u001b[0;32m---> 11\u001b[0m     move_player(active_player)\n",
      "Cell \u001b[0;32mIn[67], line 11\u001b[0m, in \u001b[0;36mmove_player\u001b[0;34m(active_player)\u001b[0m\n\u001b[1;32m      9\u001b[0m \u001b[39melse\u001b[39;00m: \n\u001b[1;32m     10\u001b[0m     \u001b[39mprint\u001b[39m(\u001b[39m'\u001b[39m\u001b[39mWhoopsie-daisy, wrong input. Try again\u001b[39m\u001b[39m'\u001b[39m)\n\u001b[0;32m---> 11\u001b[0m     move_player(active_player)\n",
      "Cell \u001b[0;32mIn[67], line 11\u001b[0m, in \u001b[0;36mmove_player\u001b[0;34m(active_player)\u001b[0m\n\u001b[1;32m      9\u001b[0m \u001b[39melse\u001b[39;00m: \n\u001b[1;32m     10\u001b[0m     \u001b[39mprint\u001b[39m(\u001b[39m'\u001b[39m\u001b[39mWhoopsie-daisy, wrong input. Try again\u001b[39m\u001b[39m'\u001b[39m)\n\u001b[0;32m---> 11\u001b[0m     move_player(active_player)\n",
      "Cell \u001b[0;32mIn[67], line 8\u001b[0m, in \u001b[0;36mmove_player\u001b[0;34m(active_player)\u001b[0m\n\u001b[1;32m      6\u001b[0m \u001b[39mif\u001b[39;00m idx \u001b[39min\u001b[39;00m \u001b[39mrange\u001b[39m(\u001b[39m1\u001b[39m,\u001b[39m10\u001b[39m) \u001b[39mand\u001b[39;00m idx \u001b[39m!=\u001b[39m \u001b[39m'\u001b[39m\u001b[39m~\u001b[39m\u001b[39m'\u001b[39m:\n\u001b[1;32m      7\u001b[0m     game_board[idx] \u001b[39m=\u001b[39m active_player\n\u001b[0;32m----> 8\u001b[0m     print_game_board(game_board)\n\u001b[1;32m      9\u001b[0m \u001b[39melse\u001b[39;00m: \n\u001b[1;32m     10\u001b[0m     \u001b[39mprint\u001b[39m(\u001b[39m'\u001b[39m\u001b[39mWhoopsie-daisy, wrong input. Try again\u001b[39m\u001b[39m'\u001b[39m)\n",
      "\u001b[0;31mNameError\u001b[0m: name 'print_game_board' is not defined"
     ]
    }
   ],
   "source": [
    "move_player(active_player)"
   ]
  },
  {
   "cell_type": "code",
   "execution_count": 57,
   "metadata": {},
   "outputs": [],
   "source": [
    "def play():\n",
    "    while game_active == True:\n",
    "        check_win_horizontal\n",
    "        print('the loop is endless')\n",
    "    else:\n",
    "        print('the game is over')"
   ]
  },
  {
   "cell_type": "code",
   "execution_count": 58,
   "metadata": {},
   "outputs": [
    {
     "name": "stdout",
     "output_type": "stream",
     "text": [
      "the game is over\n"
     ]
    }
   ],
   "source": [
    "play()"
   ]
  },
  {
   "cell_type": "code",
   "execution_count": null,
   "metadata": {},
   "outputs": [],
   "source": [
    "game_board = ['X','X','X','X','X','X','X','X','X']\n",
    "\n",
    "player_1 = None\n",
    "player_2 = None\n",
    "\n",
    "game_active = None"
   ]
  },
  {
   "cell_type": "code",
   "execution_count": null,
   "metadata": {},
   "outputs": [],
   "source": [
    "def check_draw(game_board):\n",
    "    global game_active  \n",
    "    for element in game_board:\n",
    "        if '~' not in game_board:\n",
    "            print(\"It's a Draw!\")\n",
    "        "
   ]
  },
  {
   "cell_type": "code",
   "execution_count": null,
   "metadata": {},
   "outputs": [],
   "source": [
    "check_draw(game_board)"
   ]
  },
  {
   "cell_type": "code",
   "execution_count": null,
   "metadata": {},
   "outputs": [],
   "source": [
    "game_board = ['X','X','X','X','X','X','X','X','X']\n",
    "\n",
    "player_1 = None\n",
    "player_2 = None\n",
    "\n",
    "global game_active"
   ]
  },
  {
   "cell_type": "code",
   "execution_count": null,
   "metadata": {},
   "outputs": [],
   "source": [
    "def check_draw(game_board):\n",
    "    if '~' not in game_board:\n",
    "        game_active = False\n",
    "    else:\n",
    "        game_active = True\n",
    "if game_active == False:\n",
    "    print(\"It's a Draw!\")\n"
   ]
  },
  {
   "cell_type": "code",
   "execution_count": null,
   "metadata": {},
   "outputs": [],
   "source": [
    "check_draw(game_board)\n",
    "print(game_active)"
   ]
  },
  {
   "cell_type": "code",
   "execution_count": null,
   "metadata": {},
   "outputs": [],
   "source": [
    "def check_win_horizontal(game_board):\n",
    "    if game_board[0] == game_board[1] == game_board[2] == 'X' or game_board[3] == game_board[4] == game_board[5] == 'X' or game_board[6] == game_board[7] == game_board[8] == 'X':\n",
    "        print('Player 1 won!')\n",
    "        global game_active\n",
    "        game_active = False\n",
    "    else:\n",
    "        game_active = True\n",
    "\n",
    "print(game_active)\n",
    "\n",
    "check_win_horizontal(game_board)"
   ]
  },
  {
   "cell_type": "code",
   "execution_count": null,
   "metadata": {},
   "outputs": [],
   "source": [
    "def check_win_vertical(game_board):\n",
    "    if game_board[0] == game_board[3] == game_board[6] == 'X' or game_board[1] == game_board[4] == game_board[7] == 'X' or game_board[2] == game_board[5] == game_board[8] == 'X':\n",
    "        print(f'{active_player}')\n",
    "        global game_active\n",
    "        game_active = False\n",
    "    else:\n",
    "        game_active = True\n",
    "\n",
    "print(game_active)\n",
    "\n",
    "check_win_horizontal(game_board)"
   ]
  },
  {
   "cell_type": "code",
   "execution_count": null,
   "metadata": {},
   "outputs": [],
   "source": [
    "game_board = ['~','~','~','~','~','~','X','X','X']\n",
    "\n",
    "game_active = None"
   ]
  },
  {
   "cell_type": "code",
   "execution_count": null,
   "metadata": {},
   "outputs": [],
   "source": [
    "def check_win_horizontal(game_board, active_player):\n",
    "    if game_board[0] == game_board[1] == game_board[2] == active_player or game_board[3] == game_board[4] == game_board[5] == active_player or game_board[6] == game_board[7] == game_board[8] == active_player:\n",
    "        print(f'{active_player} won!')\n",
    "        global game_active\n",
    "        game_active = False\n",
    "    else:\n",
    "        game_active = True"
   ]
  },
  {
   "cell_type": "code",
   "execution_count": 2,
   "metadata": {},
   "outputs": [
    {
     "name": "stdout",
     "output_type": "stream",
     "text": [
      "\n",
      " |   ~   |   ~   |   ~   | \n",
      "---------------------------\n",
      " |   ~   |   ~   |   ~   | \n",
      "---------------------------\n",
      " |   ~   |   ~   |   ~   | \n",
      "\n"
     ]
    }
   ],
   "source": [
    "game_board = ['~','~','~','~','~','~','~','~','~']\n",
    "\n",
    "def print_game_board(game_board):\n",
    "    print()\n",
    "    print(' | ' + '  ' + game_board[0] + '  ' + ' | ' + '  ' + game_board[1] + '  ' + ' | ' + '  ' + game_board[2] + '  ' + ' | ' )\n",
    "    print('---------------------------')\n",
    "    print(' | ' + '  ' + game_board[3] + '  ' + ' | ' + '  ' + game_board[4] + '  ' + ' | ' + '  ' + game_board[5] + '  ' + ' | ' )\n",
    "    print('---------------------------')\n",
    "    print(' | ' + '  ' + game_board[6] + '  ' + ' | ' + '  ' + game_board[7] + '  ' + ' | ' + '  ' + game_board[8] + '  ' + ' | ' )\n",
    "    print()\n",
    "\n",
    "print_game_board(game_board)"
   ]
  },
  {
   "cell_type": "code",
   "execution_count": 1,
   "metadata": {},
   "outputs": [
    {
     "name": "stdout",
     "output_type": "stream",
     "text": [
      "some red text\n",
      "\n",
      "\n",
      "COLORS!\n",
      "Red Text\n",
      "Green Text\n",
      "Yellow Text\n",
      "Blue Text\n",
      "Magenta Text\n",
      "Cyan Text\n",
      "White Text\n",
      "\n",
      "BACKGROUND!\n",
      "Red Background\n",
      "Green Background\n",
      "Yellow Background\n",
      "Blue Background\n",
      "Magenta Background\n",
      "Cyan Background\n",
      "White Background\n",
      "\n",
      "STYLE!\n",
      "Dim Text\n",
      "Normal Text\n",
      "Bright Text\n",
      "\n",
      "COMBINATION\n",
      "Green Text - Yellow Background - Bright\n",
      "Cyan Text - White Background - Dim\n"
     ]
    }
   ],
   "source": [
    "import colorama\n",
    "from colorama import Fore, Back, Style\n",
    "colorama.init(autoreset=True)\n",
    "\n",
    "print('\\033[31m' + 'some red text')\n",
    "print('\\033[39m')  # and reset to default color\n",
    "print()\n",
    "print(f\"{Fore.RED}C{Fore.GREEN}O{Fore.YELLOW}L{Fore.BLUE}O{Fore.MAGENTA}R{Fore.CYAN}S{Fore.WHITE}!\")\n",
    "print(f\"{Fore.RED}Red Text\")\n",
    "print(f\"{Fore.GREEN}Green Text\")\n",
    "print(f\"{Fore.YELLOW}Yellow Text\")\n",
    "print(f\"{Fore.BLUE}Blue Text\")\n",
    "print(f\"{Fore.MAGENTA}Magenta Text\")\n",
    "print(f\"{Fore.CYAN}Cyan Text\")\n",
    "print(f\"{Fore.WHITE}White Text\")\n",
    "print()\n",
    "print(f\"{Back.RED}B{Back.GREEN}A{Back.YELLOW}C{Back.BLUE}K{Back.MAGENTA}G{Back.CYAN}R{Back.WHITE}O{Back.RED}U{Back.GREEN}N{Back.YELLOW}D{Back.BLUE}!\")\n",
    "print(f\"{Back.RED}Red Background\")\n",
    "print(f\"{Back.GREEN}Green Background\")\n",
    "print(f\"{Back.YELLOW}Yellow Background\")\n",
    "print(f\"{Back.BLUE}Blue Background\")\n",
    "print(f\"{Back.MAGENTA}Magenta Background\")\n",
    "print(f\"{Back.CYAN}Cyan Background\")\n",
    "print(f\"{Back.WHITE}White Background\")\n",
    "print()\n",
    "print(f\"{Style.DIM}S{Style.NORMAL}T{Style.BRIGHT}Y{Style.DIM}L{Style.NORMAL}E{Style.BRIGHT}!\")\n",
    "print(f\"{Style.DIM}Dim Text\")\n",
    "print(f\"{Style.NORMAL}Normal Text\")\n",
    "print(f\"{Style.BRIGHT}Bright Text\")\n",
    "print()\n",
    "print(f\"{Fore.YELLOW}{Back.RED}C{Back.GREEN}{Fore.RED}O{Back.YELLOW}{Fore.BLUE}M{Back.BLUE}{Fore.BLACK}B{Back.MAGENTA}{Fore.CYAN}I{Back.CYAN}{Fore.GREEN}N{Back.WHITE}A{Back.RED}T{Back.GREEN}I{Back.YELLOW}O{Back.BLUE}N\")\n",
    "print(f\"{Fore.GREEN}{Back.YELLOW}{Style.BRIGHT}Green Text - Yellow Background - Bright\")\n",
    "print(f\"{Fore.CYAN}{Back.WHITE}{Style.DIM}Cyan Text - White Background - Dim\")"
   ]
  }
 ],
 "metadata": {
  "kernelspec": {
   "display_name": ".venv",
   "language": "python",
   "name": "python3"
  },
  "language_info": {
   "codemirror_mode": {
    "name": "ipython",
    "version": 3
   },
   "file_extension": ".py",
   "mimetype": "text/x-python",
   "name": "python",
   "nbconvert_exporter": "python",
   "pygments_lexer": "ipython3",
   "version": "3.11.0"
  },
  "orig_nbformat": 4
 },
 "nbformat": 4,
 "nbformat_minor": 2
}
