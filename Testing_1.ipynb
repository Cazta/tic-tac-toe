{
 "cells": [
  {
   "cell_type": "code",
   "execution_count": 28,
   "metadata": {},
   "outputs": [],
   "source": [
    "game_board = ['~','~','~','~','~','~','X','X','X']\n",
    "\n",
    "player_1 = None\n",
    "player_2 = None\n",
    "\n",
    "game_active = True"
   ]
  },
  {
   "cell_type": "code",
   "execution_count": 29,
   "metadata": {},
   "outputs": [
    {
     "name": "stdout",
     "output_type": "stream",
     "text": [
      "True\n",
      "Player 1 won!\n"
     ]
    }
   ],
   "source": [
    "def check_win_horizontal(game_board):\n",
    "    if game_board[0] == game_board[1] == game_board[2] == 'X' or game_board[3] == game_board[4] == game_board[5] == 'X' or game_board[6] == game_board[7] == game_board[8] == 'X':\n",
    "        print('Player 1 won!')\n",
    "        global game_active\n",
    "        game_active = False\n",
    "    else:\n",
    "        game_active = True\n",
    "\n",
    "print(game_active)\n",
    "\n",
    "check_win_horizontal(game_board)"
   ]
  }
 ],
 "metadata": {
  "kernelspec": {
   "display_name": ".venv",
   "language": "python",
   "name": "python3"
  },
  "language_info": {
   "codemirror_mode": {
    "name": "ipython",
    "version": 3
   },
   "file_extension": ".py",
   "mimetype": "text/x-python",
   "name": "python",
   "nbconvert_exporter": "python",
   "pygments_lexer": "ipython3",
   "version": "3.11.0"
  },
  "orig_nbformat": 4
 },
 "nbformat": 4,
 "nbformat_minor": 2
}
