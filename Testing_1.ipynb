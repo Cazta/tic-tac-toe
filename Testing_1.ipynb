{
 "cells": [
  {
   "attachments": {},
   "cell_type": "markdown",
   "metadata": {},
   "source": [
    "['X','X','X','X','X','X','X','X','X']\n",
    "['~','~','~','~','~','X','X','X','X']"
   ]
  },
  {
   "cell_type": "code",
   "execution_count": 58,
   "metadata": {},
   "outputs": [],
   "source": [
    "game_board = ['X','X','X','X','X','X','X','X','X']\n",
    "\n",
    "player_1 = None\n",
    "player_2 = None\n",
    "\n",
    "game_active = None"
   ]
  },
  {
   "cell_type": "code",
   "execution_count": 61,
   "metadata": {},
   "outputs": [],
   "source": [
    "def check_draw(game_board):\n",
    "    global game_active  \n",
    "    for element in game_board:\n",
    "        if '~' not in game_board:\n",
    "            print(\"It's a Draw!\")\n",
    "        "
   ]
  },
  {
   "cell_type": "code",
   "execution_count": 62,
   "metadata": {},
   "outputs": [
    {
     "name": "stdout",
     "output_type": "stream",
     "text": [
      "It's a Draw!\n",
      "It's a Draw!\n",
      "It's a Draw!\n",
      "It's a Draw!\n",
      "It's a Draw!\n",
      "It's a Draw!\n",
      "It's a Draw!\n",
      "It's a Draw!\n",
      "It's a Draw!\n"
     ]
    }
   ],
   "source": [
    "check_draw(game_board)"
   ]
  },
  {
   "cell_type": "code",
   "execution_count": 77,
   "metadata": {},
   "outputs": [],
   "source": [
    "game_board = ['X','X','X','X','X','X','X','X','X']\n",
    "\n",
    "player_1 = None\n",
    "player_2 = None\n",
    "\n",
    "global game_active"
   ]
  },
  {
   "cell_type": "code",
   "execution_count": 78,
   "metadata": {},
   "outputs": [
    {
     "name": "stdout",
     "output_type": "stream",
     "text": [
      "It's a Draw!\n"
     ]
    }
   ],
   "source": [
    "def check_draw(game_board):\n",
    "    if '~' not in game_board:\n",
    "        game_active = False\n",
    "    else:\n",
    "        game_active = True\n",
    "if game_active == False:\n",
    "    print(\"It's a Draw!\")\n"
   ]
  },
  {
   "cell_type": "code",
   "execution_count": 79,
   "metadata": {},
   "outputs": [
    {
     "name": "stdout",
     "output_type": "stream",
     "text": [
      "False\n"
     ]
    }
   ],
   "source": [
    "check_draw(game_board)\n",
    "print(game_active)"
   ]
  },
  {
   "cell_type": "code",
   "execution_count": 29,
   "metadata": {},
   "outputs": [
    {
     "name": "stdout",
     "output_type": "stream",
     "text": [
      "True\n",
      "Player 1 won!\n"
     ]
    }
   ],
   "source": [
    "def check_win_horizontal(game_board):\n",
    "    if game_board[0] == game_board[1] == game_board[2] == 'X' or game_board[3] == game_board[4] == game_board[5] == 'X' or game_board[6] == game_board[7] == game_board[8] == 'X':\n",
    "        print('Player 1 won!')\n",
    "        global game_active\n",
    "        game_active = False\n",
    "    else:\n",
    "        game_active = True\n",
    "\n",
    "print(game_active)\n",
    "\n",
    "check_win_horizontal(game_board)"
   ]
  },
  {
   "cell_type": "code",
   "execution_count": null,
   "metadata": {},
   "outputs": [],
   "source": [
    "def check_win_vertical(game_board):\n",
    "    if game_board[0] == game_board[3] == game_board[6] == 'X' or game_board[1] == game_board[4] == game_board[7] == 'X' or game_board[2] == game_board[5] == game_board[8] == 'X':\n",
    "        print(f'{active_player}')\n",
    "        global game_active\n",
    "        game_active = False\n",
    "    else:\n",
    "        game_active = True\n",
    "\n",
    "print(game_active)\n",
    "\n",
    "check_win_horizontal(game_board)"
   ]
  },
  {
   "cell_type": "code",
   "execution_count": null,
   "metadata": {},
   "outputs": [],
   "source": [
    "game_board = ['~','~','~','~','~','~','X','X','X']\n",
    "\n",
    "game_active = None"
   ]
  },
  {
   "cell_type": "code",
   "execution_count": null,
   "metadata": {},
   "outputs": [],
   "source": [
    "def check_win_horizontal(game_board, active_player):\n",
    "    if game_board[0] == game_board[1] == game_board[2] == active_player or game_board[3] == game_board[4] == game_board[5] == active_player or game_board[6] == game_board[7] == game_board[8] == active_player:\n",
    "        print(f'{active_player} won!')\n",
    "        global game_active\n",
    "        game_active = False\n",
    "    else:\n",
    "        game_active = True"
   ]
  }
 ],
 "metadata": {
  "kernelspec": {
   "display_name": ".venv",
   "language": "python",
   "name": "python3"
  },
  "language_info": {
   "codemirror_mode": {
    "name": "ipython",
    "version": 3
   },
   "file_extension": ".py",
   "mimetype": "text/x-python",
   "name": "python",
   "nbconvert_exporter": "python",
   "pygments_lexer": "ipython3",
   "version": "3.11.0"
  },
  "orig_nbformat": 4
 },
 "nbformat": 4,
 "nbformat_minor": 2
}
