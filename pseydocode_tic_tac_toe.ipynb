{
 "cells": [
  {
   "cell_type": "code",
   "execution_count": null,
   "metadata": {},
   "outputs": [],
   "source": [
    "# Commandline to start the Game from terminal\n",
    "\n",
    "# Print(\"Welcome to a new round of Tic Tac Toe\")\n",
    "\n",
    "# player_1 = input(\"Player 1 Please choose your Symbol, X or O\")\n",
    "\n",
    "# define input-function which declares the values for player 1 and player 2 -> player_1 = X, player_2 = O\n",
    "    # if player_1 chooses X\n",
    "        # player_2 = O\n",
    "        # else player_2 = X\n",
    "\n",
    "# print(\"Player 1 chose X or O and Player 2 chose O or X, Now the Game begins, get ready!\")\n",
    "\n",
    "# create game_board as arena\n",
    "    # game_board = nested-list [[]]\n",
    "        # print line 1 = matrix[0]\n",
    "        # print line 2 = matrix[1]\n",
    "        # print line 3 = matrix[2]\n",
    "\n",
    "# def move_player_1 (input)\n",
    "    # move = input(\"Player 1 please choose a number on the game_board: \")\n",
    "    # Store index of chosen field in variable move_index\n",
    "        # if input =! rage(1:10)\n",
    "            # print (\"Player 1 entered a invalid field\")\n",
    "            # continue\n",
    "        # elif: (Checking if the field is already taken, but how?)\n",
    "            # if input = 1:\n",
    "                #game_board[0][0]\n",
    "                    # if game_board[0][0] = X or game_board[0][0] = O:\n",
    "                        # print(\"This field is already taken, choose a free one!\")\n",
    "            # continue\n",
    "        # else:\n",
    "            # game_board[0][0] = player_1\n",
    "        # repeat (copy/paste) till input = 9\n",
    "\n",
    "        \n",
    "\n"
   ]
  }
 ],
 "metadata": {
  "kernelspec": {
   "display_name": ".venv",
   "language": "python",
   "name": "python3"
  },
  "language_info": {
   "name": "python",
   "version": "3.11.0"
  },
  "orig_nbformat": 4
 },
 "nbformat": 4,
 "nbformat_minor": 2
}
